{
 "cells": [
  {
   "cell_type": "markdown",
   "id": "fee4f538",
   "metadata": {},
   "source": [
    "# Ty Johnson\n",
    "# Assignment 2\n",
    "# Version 1\n",
    "# Spring 23"
   ]
  },
  {
   "cell_type": "code",
   "execution_count": 5,
   "id": "f2424379",
   "metadata": {},
   "outputs": [
    {
     "name": "stdout",
     "output_type": "stream",
     "text": [
      "Enter a floating-point number: 52.4\n",
      "Enter a integer: 10\n",
      "The sum is 62.4\n",
      "The difference is 42.4\n",
      "The product is 524.0\n",
      "The quotient is 5.24\n",
      "The type for the result is  <class 'float'>\n"
     ]
    }
   ],
   "source": [
    "userFloat = float(input(\"Enter a floating-point number: \"))\n",
    "userInt = int(input(\"Enter a integer: \"))\n",
    "print(\"The sum is\", userFloat + userInt)\n",
    "print(\"The difference is\", userFloat - userInt)\n",
    "print(\"The product is\", userFloat * userInt)\n",
    "print(\"The quotient is\", userFloat / userInt)\n",
    "print(\"The type for the result is \", type(userFloat))       "
   ]
  },
  {
   "cell_type": "code",
   "execution_count": null,
   "id": "1daa6a1f",
   "metadata": {},
   "outputs": [],
   "source": []
  }
 ],
 "metadata": {
  "kernelspec": {
   "display_name": "Python 3 (ipykernel)",
   "language": "python",
   "name": "python3"
  },
  "language_info": {
   "codemirror_mode": {
    "name": "ipython",
    "version": 3
   },
   "file_extension": ".py",
   "mimetype": "text/x-python",
   "name": "python",
   "nbconvert_exporter": "python",
   "pygments_lexer": "ipython3",
   "version": "3.9.13"
  }
 },
 "nbformat": 4,
 "nbformat_minor": 5
}
